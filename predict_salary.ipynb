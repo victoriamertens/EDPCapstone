{
 "cells": [
  {
   "cell_type": "code",
   "execution_count": 19,
   "metadata": {},
   "outputs": [
    {
     "name": "stdout",
     "output_type": "stream",
     "text": [
      "        id           name         phone                              role  \\\n",
      "0        1  Lily Gonzalez  322-481-1688  Training and Development Manager   \n",
      "1        2     Stella Lee  336-606-9093             Insurance Underwriter   \n",
      "2        3  Autumn Wilson  877-900-7511                    Data Scientist   \n",
      "3        4     Ava Miller  521-870-7956                 Corporate Trainer   \n",
      "4        5  Elias Ramirez  902-478-2542                Compliance Officer   \n",
      "...    ...            ...           ...                               ...   \n",
      "5995  5996     Luke Davis  169-466-8815                 Software Engineer   \n",
      "5996  5997     Wyatt Wood  305-776-8092  Training and Development Manager   \n",
      "5997  5998  Dylan Collins  439-708-6063                   Project Manager   \n",
      "5998  5999  Micheal Brown  574-289-3938  Training and Development Manager   \n",
      "5999  6000  Harry Ramirez  952-489-2780                Compliance Officer   \n",
      "\n",
      "          location  salary         manager  \n",
      "0       Fort Worth   41183            none  \n",
      "1        Charlotte   12481   Lily Gonzalez  \n",
      "2       Fort Worth   73925      Stella Lee  \n",
      "3        Charlotte   35259      Stella Lee  \n",
      "4     Jacksonville   51467   Elias Ramirez  \n",
      "...            ...     ...             ...  \n",
      "5995        Denver   53993    Amanda Davis  \n",
      "5996     San Diego   65172  Scarlett Smith  \n",
      "5997       Chicago  115960  Richard Harris  \n",
      "5998     San Diego   81084  Lillia Sanders  \n",
      "5999      New York  103672     Daniel Long  \n",
      "\n",
      "[6000 rows x 7 columns]\n"
     ]
    }
   ],
   "source": [
    "import pickle\n",
    "import pandas as pd\n",
    "from sklearn.model_selection import train_test_split\n",
    "from sklearn.preprocessing import LabelEncoder\n",
    "from sklearn.linear_model import LinearRegression\n",
    "from sklearn.metrics import r2_score, accuracy_score\n",
    "from sklearn.preprocessing import StandardScaler, OneHotEncoder\n",
    "from sklearn.compose import ColumnTransformer\n",
    "from sklearn.pipeline import Pipeline\n",
    "\n",
    "df = pd.read_csv('directory.csv')\n",
    "\n",
    "#le = LabelEncoder()\n",
    "#df['role'] = le.fit_transform(df['role'])\n",
    "#df['location'] = le.fit_transform(df['location'])\n",
    "\n",
    "X = df[['role', 'location']]\n",
    "y = df['salary']\n",
    "#X_encoded = pd.get_dummies(X)\n",
    "print(df)\n",
    "\n",
    "X_train, X_test, y_train, y_test = train_test_split(X, y, test_size=0.2, random_state=42) #X_encoded was where X is\n",
    "\n",
    "# scaler = StandardScaler()\n",
    "# X_train_scaled = scaler.fit_transform(X_train)\n",
    "# X_test_scaled = scaler.fit_transform(X_test)"
   ]
  },
  {
   "cell_type": "code",
   "execution_count": 20,
   "metadata": {},
   "outputs": [
    {
     "name": "stdout",
     "output_type": "stream",
     "text": [
      "                              role         location\n",
      "1782              Network Engineer           Denver\n",
      "3917         Systems Administrator    San Francisco\n",
      "221              Software Engineer  Washington D.C.\n",
      "2135                 Web Developer          Chicago\n",
      "5224                Data Scientist        San Diego\n",
      "...                            ...              ...\n",
      "2543         Insurance Underwriter           Denver\n",
      "1773  Business Development Manager     Indianapolis\n",
      "2846          Social Media Manager           Denver\n",
      "5799                            HR      San Antonio\n",
      "1765       Market Research Analyst         New York\n",
      "\n",
      "[1200 rows x 2 columns]\n",
      "R-Squared Score: 0.85\n"
     ]
    }
   ],
   "source": [
    "categorical_features = ['role', 'location']\n",
    "categorical_transformer = OneHotEncoder(handle_unknown='ignore')\n",
    "preprocessor = ColumnTransformer(\n",
    "    transformers=[\n",
    "        ('cat', categorical_transformer, categorical_features)\n",
    "    ],\n",
    "    remainder='passthrough'\n",
    ")\n",
    "\n",
    "model = Pipeline(steps=[\n",
    "    ('preprocessor', preprocessor),\n",
    "    ('regressor', LinearRegression())\n",
    "])\n",
    "\n",
    "model.fit(X_train, y_train)\n",
    "print(X_test)\n",
    "y_pred = model.predict(X_test)\n",
    "r2 = r2_score(y_test, y_pred)\n",
    "#accuracy = accuracy_score(y_test, y_pred)\n",
    "print(f\"R-Squared Score: {r2:.2f}\")\n",
    "#Want to be closer to 1\n",
    "#print(f\"Accuracy Score: {accuracy:.2f}\")"
   ]
  },
  {
   "cell_type": "code",
   "execution_count": 21,
   "metadata": {},
   "outputs": [],
   "source": [
    "with open('salary_predict.pkl', 'wb') as file:\n",
    "    pickle.dump(model, file)"
   ]
  }
 ],
 "metadata": {
  "kernelspec": {
   "display_name": "Python 3",
   "language": "python",
   "name": "python3"
  },
  "language_info": {
   "codemirror_mode": {
    "name": "ipython",
    "version": 3
   },
   "file_extension": ".py",
   "mimetype": "text/x-python",
   "name": "python",
   "nbconvert_exporter": "python",
   "pygments_lexer": "ipython3",
   "version": "3.12.3"
  }
 },
 "nbformat": 4,
 "nbformat_minor": 2
}
