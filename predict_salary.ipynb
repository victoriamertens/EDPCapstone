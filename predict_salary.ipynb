{
 "cells": [
  {
   "cell_type": "code",
   "execution_count": 145,
   "metadata": {},
   "outputs": [
    {
     "name": "stdout",
     "output_type": "stream",
     "text": [
      "        id              name         phone                              role  \\\n",
      "0        1    Raelynn Walker  728-462-3656                                HR   \n",
      "1        2    Carter Simmons  244-616-5331  Training and Development Manager   \n",
      "2        3   Jackson Roberts  507-426-4866                 Corporate Trainer   \n",
      "3        4  Abigail Thompson  656-493-1426                   Product Manager   \n",
      "4        5   William Johnson  542-540-2121             E-commerce Specialist   \n",
      "...    ...               ...           ...                               ...   \n",
      "4995  4996   Aiden Hernandez  601-892-9517               Editorial Assistant   \n",
      "4996  4997     Richard Baker  456-959-3694             E-commerce Specialist   \n",
      "4997  4998  Micheal Campbell  274-707-2384              Social Media Manager   \n",
      "4998  4999      Anna Jenkins  568-550-1950                                HR   \n",
      "4999  5000        Luke White  486-210-7624                     Event Planner   \n",
      "\n",
      "          location  salary           manager  \n",
      "0      San Antonio   23539              none  \n",
      "1         New York   89268    Carter Simmons  \n",
      "2     Philadelphia   47170   Jackson Roberts  \n",
      "3           Dallas   63209    Carter Simmons  \n",
      "4       Fort Worth   83333    Raelynn Walker  \n",
      "...            ...     ...               ...  \n",
      "4995       Chicago   71794       Harper Reed  \n",
      "4996   Los Angeles  161814   Grace Patterson  \n",
      "4997  Philadelphia   65407    Alexander Hill  \n",
      "4998       Houston   43756       Henry Davis  \n",
      "4999        Denver   40764  Richard Anderson  \n",
      "\n",
      "[5000 rows x 7 columns]\n"
     ]
    }
   ],
   "source": [
    "import pickle\n",
    "import pandas as pd\n",
    "from sklearn.model_selection import train_test_split\n",
    "from sklearn.preprocessing import LabelEncoder\n",
    "from sklearn.linear_model import LinearRegression\n",
    "from sklearn.metrics import r2_score, accuracy_score\n",
    "from sklearn.preprocessing import StandardScaler, OneHotEncoder\n",
    "from sklearn.compose import ColumnTransformer\n",
    "from sklearn.pipeline import Pipeline\n",
    "\n",
    "df = pd.read_csv('directory.csv')\n",
    "\n",
    "#le = LabelEncoder()\n",
    "#df['role'] = le.fit_transform(df['role'])\n",
    "#df['location'] = le.fit_transform(df['location'])\n",
    "\n",
    "X = df[['role', 'location']]\n",
    "y = df['salary']\n",
    "#X_encoded = pd.get_dummies(X)\n",
    "print(df)\n",
    "\n",
    "X_train, X_test, y_train, y_test = train_test_split(X, y, test_size=0.2, random_state=42) #X_encoded was where X is\n",
    "\n",
    "# scaler = StandardScaler()\n",
    "# X_train_scaled = scaler.fit_transform(X_train)\n",
    "# X_test_scaled = scaler.fit_transform(X_test)"
   ]
  },
  {
   "cell_type": "code",
   "execution_count": 146,
   "metadata": {},
   "outputs": [
    {
     "name": "stdout",
     "output_type": "stream",
     "text": [
      "                         role       location\n",
      "1501    Systems Administrator    Los Angeles\n",
      "2586          Project Manager       New York\n",
      "2653  Market Research Analyst   Philadelphia\n",
      "1055    Systems Administrator  San Francisco\n",
      "705     E-commerce Specialist  San Francisco\n",
      "...                       ...            ...\n",
      "4711            Event Planner   Philadelphia\n",
      "2313     Social Media Manager   Jacksonville\n",
      "3214     Supply Chain Analyst        Chicago\n",
      "2732  Market Research Analyst      San Diego\n",
      "1926     Social Media Manager        Houston\n",
      "\n",
      "[1000 rows x 2 columns]\n",
      "R-Squared Score: 0.86\n"
     ]
    }
   ],
   "source": [
    "categorical_features = ['role', 'location']\n",
    "categorical_transformer = OneHotEncoder(handle_unknown='ignore')\n",
    "preprocessor = ColumnTransformer(\n",
    "    transformers=[\n",
    "        ('cat', categorical_transformer, categorical_features)\n",
    "    ],\n",
    "    remainder='passthrough'\n",
    ")\n",
    "\n",
    "model = Pipeline(steps=[\n",
    "    ('preprocessor', preprocessor),\n",
    "    ('regressor', LinearRegression())\n",
    "])\n",
    "\n",
    "model.fit(X_train, y_train)\n",
    "print(X_test)\n",
    "y_pred = model.predict(X_test)\n",
    "r2 = r2_score(y_test, y_pred)\n",
    "#accuracy = accuracy_score(y_test, y_pred)\n",
    "print(f\"R-Squared Score: {r2:.2f}\")\n",
    "#Want to be closer to 1\n",
    "#print(f\"Accuracy Score: {accuracy:.2f}\")"
   ]
  },
  {
   "cell_type": "code",
   "execution_count": 147,
   "metadata": {},
   "outputs": [],
   "source": [
    "with open('salary_predict.pkl', 'wb') as file:\n",
    "    pickle.dump(model, file)"
   ]
  }
 ],
 "metadata": {
  "kernelspec": {
   "display_name": "Python 3",
   "language": "python",
   "name": "python3"
  },
  "language_info": {
   "codemirror_mode": {
    "name": "ipython",
    "version": 3
   },
   "file_extension": ".py",
   "mimetype": "text/x-python",
   "name": "python",
   "nbconvert_exporter": "python",
   "pygments_lexer": "ipython3",
   "version": "3.12.3"
  }
 },
 "nbformat": 4,
 "nbformat_minor": 2
}
