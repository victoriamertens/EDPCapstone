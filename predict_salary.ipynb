{
 "cells": [
  {
   "cell_type": "code",
   "execution_count": 19,
   "metadata": {},
   "outputs": [
    {
     "name": "stdout",
     "output_type": "stream",
     "text": [
      "        id            name         phone                          role  \\\n",
      "0        1   Luke Thompson  792-366-3381               Product Manager   \n",
      "1        2     Mia Stewart  370-593-9045       Market Research Analyst   \n",
      "2        3  Maddy Mitchell  318-821-8832           Editorial Assistant   \n",
      "3        4     John Brooks  377-962-6944         E-commerce Specialist   \n",
      "4        5     Robert Ross  330-310-3141          Social Media Manager   \n",
      "...    ...             ...           ...                           ...   \n",
      "4995  4996    Thomas White  177-683-1415            Content Strategist   \n",
      "4996  4997      Ellie Reed  168-769-9288          Social Media Manager   \n",
      "4997  4998     Ella Morris  945-525-4831         Insurance Underwriter   \n",
      "4998  4999   Autumn Hughes  510-586-4175  Business Development Manager   \n",
      "4999  5000       Matt Hill  287-415-3712            Compliance Officer   \n",
      "\n",
      "           location  salary          manager  \n",
      "0            Dallas   82311             none  \n",
      "1           Houston   58980      Mia Stewart  \n",
      "2            Denver   46011    Luke Thompson  \n",
      "3       Los Angeles  102003      Mia Stewart  \n",
      "4       San Antonio   78482    Luke Thompson  \n",
      "...             ...     ...              ...  \n",
      "4995   Jacksonville   44898   Micheal Cooper  \n",
      "4996         Denver   46813     Isaiah Lopez  \n",
      "4997  San Francisco   99469  Kayle Hernandez  \n",
      "4998        Chicago   52932   Anthony Torres  \n",
      "4999       New York  108847     Mason Brooks  \n",
      "\n",
      "[6000 rows x 7 columns]\n"
     ]
    }
   ],
   "source": [
    "import pickle\n",
    "import pandas as pd\n",
    "from sklearn.model_selection import train_test_split\n",
    "from sklearn.preprocessing import LabelEncoder\n",
    "from sklearn.linear_model import LinearRegression\n",
    "from sklearn.metrics import r2_score, accuracy_score\n",
    "from sklearn.preprocessing import StandardScaler, OneHotEncoder\n",
    "from sklearn.compose import ColumnTransformer\n",
    "from sklearn.pipeline import Pipeline\n",
    "\n",
    "df = pd.read_csv('directory.csv')\n",
    "\n",
    "#le = LabelEncoder()\n",
    "#df['role'] = le.fit_transform(df['role'])\n",
    "#df['location'] = le.fit_transform(df['location'])\n",
    "\n",
    "X = df[['role', 'location']]\n",
    "y = df['salary']\n",
    "#X_encoded = pd.get_dummies(X)\n",
    "print(df)\n",
    "\n",
    "X_train, X_test, y_train, y_test = train_test_split(X, y, test_size=0.2, random_state=42) #X_encoded was where X is\n",
    "\n",
    "# scaler = StandardScaler()\n",
    "# X_train_scaled = scaler.fit_transform(X_train)\n",
    "# X_test_scaled = scaler.fit_transform(X_test)"
   ]
  },
  {
   "cell_type": "code",
   "execution_count": 20,
   "metadata": {},
   "outputs": [
    {
     "name": "stdout",
     "output_type": "stream",
     "text": [
      "                         role         location\n",
      "1501         Network Engineer     Indianapolis\n",
      "2586           UX/UI Designer     Philadelphia\n",
      "2653        Software Engineer           Denver\n",
      "1055                       HR           Denver\n",
      "705     Insurance Underwriter         New York\n",
      "...                       ...              ...\n",
      "4711  Market Research Analyst     Jacksonville\n",
      "2313            Event Planner         New York\n",
      "3214           Data Scientist      Los Angeles\n",
      "2732            Web Developer     Philadelphia\n",
      "1926                       HR  Washington D.C.\n",
      "\n",
      "[1200 rows x 2 columns]\n",
      "R-Squared Score: 0.85\n"
     ]
    }
   ],
   "source": [
    "categorical_features = ['role', 'location']\n",
    "categorical_transformer = OneHotEncoder(handle_unknown='ignore')\n",
    "preprocessor = ColumnTransformer(\n",
    "    transformers=[\n",
    "        ('cat', categorical_transformer, categorical_features)\n",
    "    ],\n",
    "    remainder='passthrough'\n",
    ")\n",
    "\n",
    "model = Pipeline(steps=[\n",
    "    ('preprocessor', preprocessor),\n",
    "    ('regressor', LinearRegression())\n",
    "])\n",
    "\n",
    "model.fit(X_train, y_train)\n",
    "print(X_test)\n",
    "y_pred = model.predict(X_test)\n",
    "r2 = r2_score(y_test, y_pred)\n",
    "#accuracy = accuracy_score(y_test, y_pred)\n",
    "print(f\"R-Squared Score: {r2:.2f}\")\n",
    "#Want to be closer to 1\n",
    "#print(f\"Accuracy Score: {accuracy:.2f}\")"
   ]
  },
  {
   "cell_type": "code",
   "execution_count": 21,
   "metadata": {},
   "outputs": [],
   "source": [
    "with open('salary_predict.pkl', 'wb') as file:\n",
    "    pickle.dump(model, file)"
   ]
  }
 ],
 "metadata": {
  "kernelspec": {
   "display_name": "Python 3",
   "language": "python",
   "name": "python3"
  },
  "language_info": {
   "codemirror_mode": {
    "name": "ipython",
    "version": 3
   },
   "file_extension": ".py",
   "mimetype": "text/x-python",
   "name": "python",
   "nbconvert_exporter": "python",
   "pygments_lexer": "ipython3",
   "version": "3.12.3"
  }
 },
 "nbformat": 4,
 "nbformat_minor": 2
}
